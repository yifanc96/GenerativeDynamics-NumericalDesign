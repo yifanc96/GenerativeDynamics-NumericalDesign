{
 "cells": [
  {
   "cell_type": "code",
   "execution_count": 2,
   "id": "ba11c2f7-262b-4bb5-a8d0-46bcf7f58528",
   "metadata": {},
   "outputs": [
    {
     "name": "stdout",
     "output_type": "stream",
     "text": [
      "Found 8 CSV files:\n",
      "  - beta-t2-loss.csv\n",
      "  - beta-3t2-loss.csv\n",
      "  - beta-t-gradient.csv\n",
      "  - beta-t2-gradient.csv\n",
      "  - beta-3t2-gradient.csv\n",
      "  - beta-2t2-gradient.csv\n",
      "  - beta-2t2-loss.csv\n",
      "  - beta-t-loss.csv\n",
      "Plot saved as: beta-t2-loss.pdf\n",
      "Plot saved as: beta-3t2-loss.pdf\n",
      "Plot saved as: beta-t-gradient.pdf\n",
      "Plot saved as: beta-t2-gradient.pdf\n",
      "Plot saved as: beta-3t2-gradient.pdf\n",
      "Plot saved as: beta-2t2-gradient.pdf\n",
      "Plot saved as: beta-2t2-loss.pdf\n",
      "Plot saved as: beta-t-loss.pdf\n"
     ]
    }
   ],
   "source": [
    "import pandas as pd\n",
    "import matplotlib.pyplot as plt\n",
    "import os\n",
    "import glob\n",
    "\n",
    "def plot_csv_data(csv_file):\n",
    "    \"\"\"\n",
    "    Plot the first two columns of a CSV file and save as PNG with the same name\n",
    "    \"\"\"\n",
    "    # Read the CSV file\n",
    "    df = pd.read_csv(csv_file)\n",
    "    \n",
    "    # Get the first two columns\n",
    "    x_data = df.iloc[:, 0]\n",
    "    y_data = df.iloc[:, 1]\n",
    "    \n",
    "    # Create the plot\n",
    "    plt.figure(figsize=(6, 6))\n",
    "    plt.plot(x_data, y_data, linewidth=2)\n",
    "    plt.xlabel('steps', fontsize=20)\n",
    "    plt.ylabel('', fontsize=20)  # No y-axis label as requested\n",
    "    plt.grid(True, alpha=0.3)\n",
    "    \n",
    "    # Make ticks more compact\n",
    "    plt.ticklabel_format(style='scientific', axis='both', scilimits=(0,0))\n",
    "    plt.gca().xaxis.set_major_formatter(plt.FuncFormatter(lambda x, p: f'{x/1000:.0f}k' if x >= 1000 else f'{x:.0f}'))\n",
    "    plt.gca().yaxis.set_major_formatter(plt.FuncFormatter(lambda x, p: f'{x/1000:.0f}k' if x >= 1000 else f'{x:.0f}'))\n",
    "    plt.tick_params(axis='both', which='major', labelsize=20)\n",
    "\n",
    "    plt.tight_layout()\n",
    "    \n",
    "    # Save the plot with the same name as CSV but with .png extension\n",
    "    output_name = os.path.splitext(csv_file)[0] + '.pdf'\n",
    "    plt.savefig(output_name, dpi=300, bbox_inches='tight')\n",
    "    plt.close()\n",
    "    \n",
    "    print(f\"Plot saved as: {output_name}\")\n",
    "\n",
    "def main():\n",
    "    # Get all CSV files in the current directory\n",
    "    csv_files = glob.glob('*.csv')\n",
    "    \n",
    "    if not csv_files:\n",
    "        print(\"No CSV files found in the current directory.\")\n",
    "        return\n",
    "    \n",
    "    print(f\"Found {len(csv_files)} CSV files:\")\n",
    "    for file in csv_files:\n",
    "        print(f\"  - {file}\")\n",
    "    \n",
    "    # Process each CSV file\n",
    "    for csv_file in csv_files:\n",
    "        try:\n",
    "            plot_csv_data(csv_file)\n",
    "        except Exception as e:\n",
    "            print(f\"Error processing {csv_file}: {e}\")\n",
    "\n",
    "if __name__ == \"__main__\":\n",
    "    main()"
   ]
  },
  {
   "cell_type": "code",
   "execution_count": null,
   "id": "53e605e5-f6d4-4b83-bc30-5202bf9ae6a0",
   "metadata": {},
   "outputs": [],
   "source": []
  }
 ],
 "metadata": {
  "kernelspec": {
   "display_name": "base",
   "language": "python",
   "name": "python3"
  },
  "language_info": {
   "codemirror_mode": {
    "name": "ipython",
    "version": 3
   },
   "file_extension": ".py",
   "mimetype": "text/x-python",
   "name": "python",
   "nbconvert_exporter": "python",
   "pygments_lexer": "ipython3",
   "version": "3.12.7"
  }
 },
 "nbformat": 4,
 "nbformat_minor": 5
}
